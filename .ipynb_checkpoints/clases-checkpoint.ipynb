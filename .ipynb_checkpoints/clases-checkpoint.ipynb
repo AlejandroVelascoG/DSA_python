{
 "cells": [
  {
   "cell_type": "code",
   "execution_count": 2,
   "metadata": {},
   "outputs": [
    {
     "data": {
      "text/plain": [
       "\"\\nEn la definici\\xc3\\xb3n de una clase, los m\\xc3\\xa9todos pueden aparecer con m\\xc3\\xa1s par\\xc3\\xa1metros de los que ve el usuario\\nal llamar al m\\xc3\\xa9todo. Por ejemplo, los get reciben por par\\xc3\\xa1metro el identificador 'self', pero el usuario\\nno le pasa ning\\xc3\\xban par\\xc3\\xa1metro al m\\xc3\\xa9todo. El int\\xc2\\xb4erprete de python autom\\xc3\\xa1ticamente liga la instancia con la que\\nse llama al m\\xc3\\xa9todo con el par\\xc3\\xa1metro self (ej: tarj1.get_cuenta()).\\n\""
      ]
     },
     "execution_count": 2,
     "metadata": {},
     "output_type": "execute_result"
    }
   ],
   "source": [
    "# -*- coding: utf-8 -*-\n",
    "\n",
    "# ejercicio DSA\n",
    "\n",
    "# Clase Tarjeta de crédito\n",
    "\n",
    "import sys as sys\n",
    "reload(sys)\n",
    "sys.setdefaultencoding(\"utf-8\")\n",
    "\n",
    "\n",
    "class Tarjeta:\n",
    "    \n",
    "    # clase que representa una tarjeta de crédito con el nombre del cliente, el banco de la tarjeta\n",
    "    # el número de la cuenta y el límite\n",
    "    \n",
    "    def __init__(self, cliente, banco, cuenta, limite):\n",
    "        \n",
    "        self._cliente = cliente\n",
    "        self._banco = banco\n",
    "        self._cuenta = cuenta\n",
    "        self._limite = limite\n",
    "        self._balance = 0\n",
    "        \n",
    "    def get_cliente(self):        \n",
    "        return self._cliente\n",
    "    \n",
    "    def get_banco(self):        \n",
    "        return self._banco\n",
    "    \n",
    "    def get_cuenta(self):        \n",
    "        return self._cuenta\n",
    "    \n",
    "    def get_limite(self):        \n",
    "        return self._limite\n",
    "    \n",
    "    def get_balance(self):        \n",
    "        return self._balance\n",
    "    \n",
    "    # Función para cargar a la tarjeta\n",
    "    \n",
    "    def cargar(self, precio):\n",
    "        \n",
    "        # Carga el precio dado a la tarjeta. Si la suma del precio y el balance exceden el límite,\n",
    "        # no permite cargar a la tarjeta\n",
    "        \n",
    "        if precio + self._balance > self._limite: \n",
    "            return False\n",
    "        else:\n",
    "            self._balance += precio\n",
    "            return True\n",
    "        \n",
    "    # Función para pagar con la tarjeta\n",
    "    \n",
    "    def pagar(self, cantidad):\n",
    "        # Reduce al balance la cantidad pagada\n",
    "        self._balance -= cantidad\n",
    "        \n",
    "'''\n",
    "En la definición de una clase, los métodos pueden aparecer con más parámetros de los que ve el usuario\n",
    "al llamar al método. Por ejemplo, los get reciben por parámetro el identificador 'self', pero el usuario\n",
    "no le pasa ningún parámetro al método. El int´erprete de python automáticamente liga la instancia con la que\n",
    "se llama al método con el parámetro self (ej: tarj1.get_cuenta()).\n",
    "'''\n",
    "    "
   ]
  },
  {
   "cell_type": "code",
   "execution_count": null,
   "metadata": {},
   "outputs": [],
   "source": []
  }
 ],
 "metadata": {
  "kernelspec": {
   "display_name": "Python 2",
   "language": "python",
   "name": "python2"
  },
  "language_info": {
   "codemirror_mode": {
    "name": "ipython",
    "version": 2
   },
   "file_extension": ".py",
   "mimetype": "text/x-python",
   "name": "python",
   "nbconvert_exporter": "python",
   "pygments_lexer": "ipython2",
   "version": "2.7.15+"
  }
 },
 "nbformat": 4,
 "nbformat_minor": 2
}
